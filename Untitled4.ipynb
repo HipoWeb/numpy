{
  "nbformat": 4,
  "nbformat_minor": 0,
  "metadata": {
    "colab": {
      "provenance": [],
      "authorship_tag": "ABX9TyMAtB3WePBvVe1yK4JZHFNA",
      "include_colab_link": true
    },
    "kernelspec": {
      "name": "python3",
      "display_name": "Python 3"
    },
    "language_info": {
      "name": "python"
    }
  },
  "cells": [
    {
      "cell_type": "markdown",
      "metadata": {
        "id": "view-in-github",
        "colab_type": "text"
      },
      "source": [
        "<a href=\"https://colab.research.google.com/github/HipoWeb/numpy/blob/main/Untitled4.ipynb\" target=\"_parent\"><img src=\"https://colab.research.google.com/assets/colab-badge.svg\" alt=\"Open In Colab\"/></a>"
      ]
    },
    {
      "cell_type": "code",
      "execution_count": null,
      "metadata": {
        "id": "9LULKCfQAc_0"
      },
      "outputs": [],
      "source": [
        "import numpy as np\n",
        "import matplotlib.pyplot as plt\n",
        "import sympy as sym\n",
        "from sklearn.linear_model import LinearRegression\n",
        "\n",
        "#variable independiente\n",
        "experiencia = np.array([[5],[6],[10]])\n",
        "\n",
        "#variable objetivo\n",
        "\n",
        "salario = np.array([6.85, 16.83, 26.84])\n",
        "\n",
        "#modelo linea creado con el metodo de minimos cuadrados\n",
        "\n",
        "modelo = LinearRegression().fit(experiencia.reshape(3,-1),salario)\n",
        "\n",
        "#visualización de datos y modelo\n",
        "\n",
        "print(\"intesercción con el eje Y (b): %0.2f\" % modelo.intercept_)\n",
        "print(\"pendiente (m): %0.2f\" % modelo.coef_[0])\n",
        "print(\"suma de cuadrados de los residuos(RSS): %0.2f\" %\n",
        "      ((salario - modelo.predict(experiencia))**2).sum())\n",
        "\n",
        "plt.figure(figsize=(8,6))\n",
        "\n",
        "plt.scatter(experiencia, salario, color=\"gold\", s=250,\n",
        "            marker=\"o\", label=\"Valor Verdadero\")\n",
        "\n",
        "plt.scatter(experiencia, modelo.predict(experiencia),\n",
        "            color=\"blue\", s=250, marker=\"p\", label=\"Valor Predicho\")\n",
        "plt.plot(experiencia, modelo.predict(experiencia),\n",
        "         linewidth=4, color=\"deeppink\", label=\"Modelo Lineal\")\n",
        "experiencia = experiencia.reshape(3)\n",
        "\n",
        "plt.ylabel(\"salaro en miles de soles s/.\", size=16)\n",
        "plt.xlabel(\"Años de experiencia\", size=16)\n",
        "plt.legend(bbox_to_anchor=(1.3, 0.5))\n",
        "plt.grid()\n",
        "plt.box(False)\n",
        "plt.show()\n",
        "\n"
      ]
    },
    {
      "cell_type": "markdown",
      "source": [
        "## **Diferentes Modelos con diferentes pendientes**"
      ],
      "metadata": {
        "id": "U-_c-scBnKpj"
      }
    },
    {
      "cell_type": "code",
      "source": [
        "#creación de multiples pendientes para exploracion\n",
        "pendientes = np.arange(2.5, 1.6, -0.1)\n",
        "\n",
        "#Vector para almacenar el error de los diferentes modelos\n",
        "\n",
        "errores = np.array([])\n",
        "\n",
        "#visualizacion de modelos\n",
        "\n",
        "plt.figure(figsize=(8,6))\n",
        "\n"
      ],
      "metadata": {
        "id": "DHQRkKPLnKB0"
      },
      "execution_count": null,
      "outputs": []
    },
    {
      "cell_type": "code",
      "source": [],
      "metadata": {
        "id": "x7m80Z9JnY4T"
      },
      "execution_count": null,
      "outputs": []
    }
  ]
}